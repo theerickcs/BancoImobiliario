{
  "nbformat": 4,
  "nbformat_minor": 0,
  "metadata": {
    "colab": {
      "name": "Untitled4.ipynb",
      "provenance": [],
      "collapsed_sections": [],
      "authorship_tag": "ABX9TyOYAUzLDiJHAF1LZlUq6xxK",
      "include_colab_link": true
    },
    "kernelspec": {
      "name": "python3",
      "display_name": "Python 3"
    }
  },
  "cells": [
    {
      "cell_type": "markdown",
      "metadata": {
        "id": "view-in-github",
        "colab_type": "text"
      },
      "source": [
        "<a href=\"https://colab.research.google.com/github/theerickcs/BancoImobiliario/blob/main/bancoImobniliario.ipynb\" target=\"_parent\"><img src=\"https://colab.research.google.com/assets/colab-badge.svg\" alt=\"Open In Colab\"/></a>"
      ]
    },
    {
      "cell_type": "markdown",
      "metadata": {
        "id": "HIU2HbV51b70"
      },
      "source": [
        "## Quantas partidas terminam portime out (1000 rodadas);\n",
        "## Quantos turnos em média demora uma partida;\n",
        "## Qual a porcentagem de vitórias por comportamento dos jogadores;\n",
        "\n",
        "\n",
        "**O jogador um é impulsivo:**\n",
        "*O jogador impulsivo compra qualquer propriedade sobre a qual ele parar.*\n",
        "\n",
        "**O jogador dois é exigente:**\n",
        "*O jogador exigente compra qualquer propriedade, desde que o valor do aluguel dela seja maior do que 50.*\n",
        "\n",
        "**O jogador três é cauteloso:**\n",
        "*O jogador cauteloso compra qualquer propriedade desde que ele tenha uma reserva de 80 saldo sobrando depois de realizada a compra.*\n",
        "\n",
        "**O jogador quatro é aleatório:**\n",
        "*O jogador aleatório compra a propriedade que ele parar em cima com probabilidade de 50%.*\n",
        "\n",
        "\n",
        "## Qual o comportamento que mais vence"
      ]
    },
    {
      "cell_type": "code",
      "metadata": {
        "id": "XTR9KwS2QmHr"
      },
      "source": [
        "import numpy as np\n",
        "DICE_FACES = 6"
      ],
      "execution_count": null,
      "outputs": []
    },
    {
      "cell_type": "markdown",
      "metadata": {
        "id": "Ezh04XUX5aRz"
      },
      "source": [
        "Nesse jogo, o **tabuleiro** é composto por **20 propriedades** em sequência.\n",
        "\n",
        "**Cada propriedade tem:**\n",
        "\n",
        "*   Um custo de venda;\n",
        "*   Um valor de aluguel;\n",
        "*   Um proprietário caso já estejam compradas;\n",
        "*   Seguem uma determinada ordem no tabuleiro.\n",
        "\n",
        "***Não é possível construir hotéis e nenhuma outra melhoria sobre as propriedades do tabuleiro, por simplicidade do problema.***\n"
      ]
    },
    {
      "cell_type": "code",
      "metadata": {
        "id": "T2a2_EyJi9ns"
      },
      "source": [
        "lote0 = ['LIVRE', 200, 20]\n",
        "lote1 = ['LIVRE', 50, 5]\n",
        "lote2 = ['LIVRE', 150, 15]\n",
        "lote3 = ['LIVRE', 400, 40]\n",
        "lote4 = ['LIVRE', 10, 1]\n",
        "lote5 = ['LIVRE', 120, 12]\n",
        "lote6 = ['LIVRE', 80 , 8]\n",
        "lote7 = ['LIVRE', 90, 9]\n",
        "lote8 = ['LIVRE', 40, 4]\n",
        "lote9 = ['LIVRE', 500, 50]\n",
        "lote10 = ['LIVRE', 450, 45]\n",
        "lote11 = ['LIVRE', 250, 25]\n",
        "lote12 = ['LIVRE', 20, 2]\n",
        "lote13 = ['LIVRE', 50, 5]\n",
        "lote14 = ['LIVRE', 180, 18]\n",
        "lote15 = ['LIVRE', 230, 23]\n",
        "lote16 = ['LIVRE', 100, 10]\n",
        "lote17 = ['LIVRE', 210, 21]\n",
        "lote18 = ['LIVRE', 160, 16]\n",
        "lote19 = ['LIVRE', 200, 60]\n",
        "lote20 = [0, 0, 0]\n",
        "lote21 = [0, 0, 0]\n",
        "lote22 = [0, 0, 0]\n",
        "lote23 = [0, 0, 0]\n",
        "lote24 = [0, 0, 0]\n",
        "lote25 = [0, 0, 0]\n",
        "\n",
        "lotes = [lote0,lote1, lote2, lote3, lote4, lote5, lote6, lote7, lote8, lote9,\n",
        "         lote10, lote11, lote12, lote13, lote14, lote15, lote16, lote17,\n",
        "         lote18, lote19, lote20, lote21, lote22, lote23, lote24, lote25]\n",
        "\n",
        "\n",
        "\n",
        "\n"
      ],
      "execution_count": null,
      "outputs": []
    },
    {
      "cell_type": "code",
      "metadata": {
        "id": "wUEOXEWw11ct"
      },
      "source": [
        "\n",
        "class Banco:\n",
        "  def __init__(self):\n",
        "    self.players = 4\n",
        "    self.current_player = 0\n",
        "    self.player_position = np.array([0,0,0,0])\n",
        "    self.turn = 0\n",
        "    self.saldo = [500,500,500,500]\n",
        "    self.position = 0\n",
        "\n",
        "  def compra(self):\n",
        "    if (lotes[self.position][0] == 'LIVRE'):\n",
        "      lotes[self.position][0] = self.current_player\n",
        "      self.saldo[self.current_player] -= lotes[self.position][1]\n",
        "\n",
        "  def aluguel(self):\n",
        "    if(lotes[self.position][0] != 'LIVRE' and lotes[self.position][0] != self.current_player):\n",
        "      #print(lotes[self.position][0])\n",
        "      #print(self.current_player)\n",
        "      self.saldo[self.current_player] -= lotes[self.position][2]\n",
        "      valor_aluguel = int (lotes[self.position][0])\n",
        "      self.saldo[valor_aluguel] += lotes[self.position][2]\n",
        "\n",
        "\n",
        "\n",
        "  def next_turn(self):\n",
        "    dice = np.random.choice(DICE_FACES) + 1\n",
        "    self.player_position[self.current_player] += dice\n",
        "    self.position = self.player_position[self.current_player]\n",
        "    aleatorio = np.random.choice(2)\n",
        "\n",
        "    if (self.position>20):\n",
        "      #print(self.position)\n",
        "      self.player_position[self.current_player]=0\n",
        "      self.position=0\n",
        "      projecao_saldo = self.saldo[self.current_player] - lotes[self.position][2]\n",
        "      #print(self.position)\n",
        "    projecao_saldo = self.saldo[self.current_player] - lotes[self.position][2]\n",
        "  \n",
        "    if (self.current_player == 0):\n",
        "      self.compra()\n",
        "    elif (self.current_player == 1 and lotes[self.position][2] > 50):\n",
        "      self.compra()\n",
        "    elif (self.current_player == 2 and projecao_saldo >= 80):\n",
        "      self.compra()\n",
        "    elif (self.current_player == 3 and aleatorio == 1):\n",
        "      self.compra()\n",
        "    else:\n",
        "      self.aluguel()\n",
        "      \n",
        "    self.current_player +=1\n",
        "    if (self.current_player >= self.players):\n",
        "      self.current_player = 0\n",
        "    self.turn += 1\n",
        "    \n",
        "    \n",
        "  \n",
        "  def print_saldo(self):\n",
        "    print(f\"Saldo dos jogadores: {self.saldo}\")\n",
        "    print(\" \")\n",
        "    print(\" \")\n",
        "\n",
        "  def print_status(self):\n",
        "    print(f\"Turno {self.turn}::{self.player_position}\")\n",
        "    "
      ],
      "execution_count": null,
      "outputs": []
    },
    {
      "cell_type": "code",
      "metadata": {
        "id": "EoiNct5FLTPd"
      },
      "source": [
        "game = Banco()\n",
        "\n",
        "\n",
        "\n",
        "for i in range(1000):\n",
        "  game.next_turn()\n",
        "  \n",
        "  game.print_status()\n",
        "  game.print_saldo()\n",
        "  \n",
        "  "
      ],
      "execution_count": null,
      "outputs": []
    }
  ]
}